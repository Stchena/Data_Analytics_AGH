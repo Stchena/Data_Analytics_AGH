{
 "cells": [
  {
   "cell_type": "code",
   "execution_count": 23,
   "metadata": {},
   "outputs": [],
   "source": [
    "import sys\n",
    "sys.path.append('../')\n",
    "from utility import stan_utility\n",
    "import pystan\n",
    "\n",
    "import pandas as pd\n",
    "import seaborn as sns\n",
    "import numpy as np\n",
    "import matplotlib.pyplot as plt\n",
    "import scipy.stats as stats"
   ]
  },
  {
   "cell_type": "markdown",
   "metadata": {},
   "source": [
    "### 1. Gamma Distribution\n",
    "\n",
    "This distribution is given by the following equation, where $\\Gamma(\\alpha)$ is the gamma function, that is, for all positive numbers $\\Gamma(\\alpha) = (\\alpha-1)!$.\n",
    "\n",
    "$$x^{\\alpha-1}\\frac {e^{-x/\\theta}}{\\theta^{\\alpha}\\Gamma(\\alpha)}\\quad for\\ x > 0\\quad \\alpha,\\theta > 0$$\n",
    "\n",
    "$\\alpha$ - shape coefficient\n",
    "\n",
    "$\\theta$ - scale coefficient"
   ]
  },
  {
   "cell_type": "code",
   "execution_count": 24,
   "metadata": {},
   "outputs": [
    {
     "data": {
      "text/html": [
       "<div>\n",
       "<style scoped>\n",
       "    .dataframe tbody tr th:only-of-type {\n",
       "        vertical-align: middle;\n",
       "    }\n",
       "\n",
       "    .dataframe tbody tr th {\n",
       "        vertical-align: top;\n",
       "    }\n",
       "\n",
       "    .dataframe thead th {\n",
       "        text-align: right;\n",
       "    }\n",
       "</style>\n",
       "<table border=\"1\" class=\"dataframe\">\n",
       "  <thead>\n",
       "    <tr style=\"text-align: right;\">\n",
       "      <th></th>\n",
       "      <th>shape=1.0,scale=1.0</th>\n",
       "      <th>shape=3.0,scale=1.0</th>\n",
       "      <th>shape=3.0,scale=3.0</th>\n",
       "      <th>shape=5.0,scale=4.0</th>\n",
       "    </tr>\n",
       "  </thead>\n",
       "  <tbody>\n",
       "    <tr>\n",
       "      <th>0</th>\n",
       "      <td>1.106552</td>\n",
       "      <td>1.617566</td>\n",
       "      <td>6.189758</td>\n",
       "      <td>25.100306</td>\n",
       "    </tr>\n",
       "    <tr>\n",
       "      <th>1</th>\n",
       "      <td>0.623748</td>\n",
       "      <td>3.992327</td>\n",
       "      <td>2.834128</td>\n",
       "      <td>17.140791</td>\n",
       "    </tr>\n",
       "    <tr>\n",
       "      <th>2</th>\n",
       "      <td>0.559259</td>\n",
       "      <td>5.641699</td>\n",
       "      <td>21.183171</td>\n",
       "      <td>28.265709</td>\n",
       "    </tr>\n",
       "    <tr>\n",
       "      <th>3</th>\n",
       "      <td>2.216794</td>\n",
       "      <td>1.500178</td>\n",
       "      <td>12.077762</td>\n",
       "      <td>20.285912</td>\n",
       "    </tr>\n",
       "    <tr>\n",
       "      <th>4</th>\n",
       "      <td>0.479286</td>\n",
       "      <td>1.958798</td>\n",
       "      <td>11.778527</td>\n",
       "      <td>10.457261</td>\n",
       "    </tr>\n",
       "  </tbody>\n",
       "</table>\n",
       "</div>"
      ],
      "text/plain": [
       "   shape=1.0,scale=1.0  shape=3.0,scale=1.0  shape=3.0,scale=3.0  \\\n",
       "0             1.106552             1.617566             6.189758   \n",
       "1             0.623748             3.992327             2.834128   \n",
       "2             0.559259             5.641699            21.183171   \n",
       "3             2.216794             1.500178            12.077762   \n",
       "4             0.479286             1.958798            11.778527   \n",
       "\n",
       "   shape=5.0,scale=4.0  \n",
       "0            25.100306  \n",
       "1            17.140791  \n",
       "2            28.265709  \n",
       "3            20.285912  \n",
       "4            10.457261  "
      ]
     },
     "execution_count": 24,
     "metadata": {},
     "output_type": "execute_result"
    }
   ],
   "source": [
    "# Construct a few example distributions.\n",
    "alpha = [1.0,3.0,3.0,5.0]\n",
    "theta = [1.0,1.0,3.0,4.0]\n",
    "gammas = pd.DataFrame({\"shape={},scale={}\".format(str(alpha[i]),str(theta[i])):np.random.gamma(alpha[i],theta[i],size=10000) for i in range(4)})\n",
    "gammas.head()"
   ]
  },
  {
   "cell_type": "code",
   "execution_count": 25,
   "metadata": {},
   "outputs": [
    {
     "data": {
      "text/html": [
       "<div>\n",
       "<style scoped>\n",
       "    .dataframe tbody tr th:only-of-type {\n",
       "        vertical-align: middle;\n",
       "    }\n",
       "\n",
       "    .dataframe tbody tr th {\n",
       "        vertical-align: top;\n",
       "    }\n",
       "\n",
       "    .dataframe thead th {\n",
       "        text-align: right;\n",
       "    }\n",
       "</style>\n",
       "<table border=\"1\" class=\"dataframe\">\n",
       "  <thead>\n",
       "    <tr style=\"text-align: right;\">\n",
       "      <th></th>\n",
       "      <th>variable</th>\n",
       "      <th>value</th>\n",
       "    </tr>\n",
       "  </thead>\n",
       "  <tbody>\n",
       "    <tr>\n",
       "      <th>0</th>\n",
       "      <td>shape=1.0,scale=1.0</td>\n",
       "      <td>1.106552</td>\n",
       "    </tr>\n",
       "    <tr>\n",
       "      <th>1</th>\n",
       "      <td>shape=1.0,scale=1.0</td>\n",
       "      <td>0.623748</td>\n",
       "    </tr>\n",
       "    <tr>\n",
       "      <th>2</th>\n",
       "      <td>shape=1.0,scale=1.0</td>\n",
       "      <td>0.559259</td>\n",
       "    </tr>\n",
       "    <tr>\n",
       "      <th>3</th>\n",
       "      <td>shape=1.0,scale=1.0</td>\n",
       "      <td>2.216794</td>\n",
       "    </tr>\n",
       "    <tr>\n",
       "      <th>4</th>\n",
       "      <td>shape=1.0,scale=1.0</td>\n",
       "      <td>0.479286</td>\n",
       "    </tr>\n",
       "  </tbody>\n",
       "</table>\n",
       "</div>"
      ],
      "text/plain": [
       "              variable     value\n",
       "0  shape=1.0,scale=1.0  1.106552\n",
       "1  shape=1.0,scale=1.0  0.623748\n",
       "2  shape=1.0,scale=1.0  0.559259\n",
       "3  shape=1.0,scale=1.0  2.216794\n",
       "4  shape=1.0,scale=1.0  0.479286"
      ]
     },
     "execution_count": 25,
     "metadata": {},
     "output_type": "execute_result"
    }
   ],
   "source": [
    "# Melt for better histogram cooperation\n",
    "gammas_melted = gammas.melt()\n",
    "gammas_melted.head()"
   ]
  },
  {
   "cell_type": "code",
   "execution_count": 26,
   "metadata": {},
   "outputs": [
    {
     "data": {
      "text/plain": [
       "<seaborn.axisgrid.FacetGrid at 0x1bab91c8108>"
      ]
     },
     "execution_count": 26,
     "metadata": {},
     "output_type": "execute_result"
    },
    {
     "data": {
      "image/png": "[encoded data removed]",
      "text/plain": [
       "<Figure size 864x216 with 4 Axes>"
      ]
     },
     "metadata": {
      "needs_background": "light"
     },
     "output_type": "display_data"
    }
   ],
   "source": [
    "# Plot histograms\n",
    "grid = sns.FacetGrid(gammas_melted, col='variable',sharex=True)\n",
    "grid.map(plt.hist,'value',cumulative=False,bins=128)"
   ]
  },
  {
   "cell_type": "markdown",
   "metadata": {},
   "source": [
    "Gamma distribution is typically used for prediction of wait time until future events. While the exponential distribution predicts time until first event, gamma distr predicts wait time until k-th event. In this exercise we find parameters for this distribution so that \"we wait between 5 to 10 units of time\" with 98% probability.\n",
    "Increasing alpha changes the skewness of the distribution (by 2/$\\sqrt{\\alpha}$ to be more precise). Increasing scale (theta) splits the variables further across the axis.\n",
    "\n",
    "We will now find the parameters using albebra solver in stan."
   ]
  },
  {
   "cell_type": "code",
   "execution_count": 29,
   "metadata": {},
   "outputs": [
    {
     "name": "stderr",
     "output_type": "stream",
     "text": [
      "INFO:pystan:COMPILING THE C++ CODE FOR MODEL anon_model_9b36463ffcb37e7800c2aba9d5826c89 NOW.\n"
     ]
    }
   ],
   "source": [
    "gamma_model = stan_utility.compile_model('gamma_tune.stan')"
   ]
  },
  {
   "cell_type": "code",
   "execution_count": 55,
   "metadata": {},
   "outputs": [
    {
     "name": "stderr",
     "output_type": "stream",
     "text": [
      "WARNING:pystan:`warmup=0` forced with `algorithm=\"Fixed_param\"`.\n"
     ]
    },
    {
     "name": "stdout",
     "output_type": "stream",
     "text": [
      "Inference for Stan model: anon_model_9b36463ffcb37e7800c2aba9d5826c89.\n",
      "4 chains, each with iter=2000; warmup=0; thin=1; \n",
      "post-warmup draws per chain=2000, total post-warmup draws=8000.\n",
      "\n",
      "        mean se_mean     sd   2.5%    25%    50%    75%  97.5%  n_eff   Rhat\n",
      "alpha   8.92     0.0    0.0   8.92   8.92   8.92   8.92   8.92      2   1.02\n",
      "theta   3.46 6.3e-168.9e-16   3.46   3.46   3.46   3.46   3.46      2    1.0\n",
      "lp__     0.0     nan    0.0    0.0    0.0    0.0    0.0    0.0    nan    nan\n",
      "\n",
      "Samples were drawn using Fixed_param at Fri Jun 12 20:27:33 2020.\n",
      "For each parameter, n_eff is a crude measure of effective sample size,\n",
      "and Rhat is the potential scale reduction factor on split chains (at \n",
      "convergence, Rhat=1).\n"
     ]
    }
   ],
   "source": [
    "params = {'y_guess':np.array([3,1]),'tq':np.array([5,1])}\n",
    "sample = gamma_model.sampling(data=params, seed=1206, algorithm='Fixed_param')\n",
    "print(sample)"
   ]
  },
  {
   "cell_type": "code",
   "execution_count": 54,
   "metadata": {},
   "outputs": [
    {
     "data": {
      "text/plain": [
       "(array([2.570e+02, 1.925e+03, 3.234e+03, 2.591e+03, 1.298e+03, 4.940e+02,\n",
       "        1.510e+02, 3.500e+01, 1.200e+01, 3.000e+00]),\n",
       " array([ 6.10479468, 14.32180646, 22.53881824, 30.75583003, 38.97284181,\n",
       "        47.18985359, 55.40686537, 63.62387715, 71.84088894, 80.05790072,\n",
       "        88.2749125 ]),\n",
       " <a list of 10 Patch objects>)"
      ]
     },
     "execution_count": 54,
     "metadata": {},
     "output_type": "execute_result"
    },
    {
     "data": {
      "image/png": "[encoded data removed]",
      "text/plain": [
       "<Figure size 432x288 with 1 Axes>"
      ]
     },
     "metadata": {
      "needs_background": "light"
     },
     "output_type": "display_data"
    }
   ],
   "source": [
    "solution = np.random.gamma(8.92,3.46,size=10000)\n",
    "plt.hist(solution)"
   ]
  },
  {
   "cell_type": "markdown",
   "metadata": {},
   "source": [
    "wtf is this"
   ]
  },
  {
   "cell_type": "markdown",
   "metadata": {},
   "source": [
    "### 2. Negative Binomial Distribution\n",
    "\n",
    "This is a distribution that models the number of failures in a sequence of independent and identically distributed Bernoulli trials before a specified (non-random) number of successes (denoted as r) occurs.\n",
    "$$\\binom{k+r-1}{k}p^r(1-p)^k$$"
   ]
  },
  {
   "cell_type": "code",
   "execution_count": 66,
   "metadata": {},
   "outputs": [
    {
     "data": {
      "text/html": [
       "<div>\n",
       "<style scoped>\n",
       "    .dataframe tbody tr th:only-of-type {\n",
       "        vertical-align: middle;\n",
       "    }\n",
       "\n",
       "    .dataframe tbody tr th {\n",
       "        vertical-align: top;\n",
       "    }\n",
       "\n",
       "    .dataframe thead th {\n",
       "        text-align: right;\n",
       "    }\n",
       "</style>\n",
       "<table border=\"1\" class=\"dataframe\">\n",
       "  <thead>\n",
       "    <tr style=\"text-align: right;\">\n",
       "      <th></th>\n",
       "      <th>r=5,p=0.1</th>\n",
       "      <th>r=5,p=0.5</th>\n",
       "      <th>r=20,p=0.1</th>\n",
       "      <th>r=20,p=0.5</th>\n",
       "    </tr>\n",
       "  </thead>\n",
       "  <tbody>\n",
       "    <tr>\n",
       "      <th>0</th>\n",
       "      <td>10</td>\n",
       "      <td>8</td>\n",
       "      <td>206</td>\n",
       "      <td>15</td>\n",
       "    </tr>\n",
       "    <tr>\n",
       "      <th>1</th>\n",
       "      <td>68</td>\n",
       "      <td>4</td>\n",
       "      <td>114</td>\n",
       "      <td>20</td>\n",
       "    </tr>\n",
       "    <tr>\n",
       "      <th>2</th>\n",
       "      <td>18</td>\n",
       "      <td>4</td>\n",
       "      <td>133</td>\n",
       "      <td>10</td>\n",
       "    </tr>\n",
       "    <tr>\n",
       "      <th>3</th>\n",
       "      <td>52</td>\n",
       "      <td>14</td>\n",
       "      <td>203</td>\n",
       "      <td>23</td>\n",
       "    </tr>\n",
       "    <tr>\n",
       "      <th>4</th>\n",
       "      <td>46</td>\n",
       "      <td>3</td>\n",
       "      <td>106</td>\n",
       "      <td>15</td>\n",
       "    </tr>\n",
       "  </tbody>\n",
       "</table>\n",
       "</div>"
      ],
      "text/plain": [
       "   r=5,p=0.1  r=5,p=0.5  r=20,p=0.1  r=20,p=0.5\n",
       "0         10          8         206          15\n",
       "1         68          4         114          20\n",
       "2         18          4         133          10\n",
       "3         52         14         203          23\n",
       "4         46          3         106          15"
      ]
     },
     "execution_count": 66,
     "metadata": {},
     "output_type": "execute_result"
    }
   ],
   "source": [
    "r = [5,5,20,20]\n",
    "p = [0.1,0.5,0.1,0.5]\n",
    "nbinom = pd.DataFrame({\"r={},p={}\".format(str(n[i]),str(p[i])):np.random.negative_binomial(r[i],p[i],size=10000) for i in range(4)})\n",
    "nbinom.head()"
   ]
  },
  {
   "cell_type": "code",
   "execution_count": 67,
   "metadata": {},
   "outputs": [
    {
     "data": {
      "text/plain": [
       "<seaborn.axisgrid.FacetGrid at 0x1babde84288>"
      ]
     },
     "execution_count": 67,
     "metadata": {},
     "output_type": "execute_result"
    },
    {
     "data": {
      "image/png": "[encoded data removed]",
      "text/plain": [
       "<Figure size 864x216 with 4 Axes>"
      ]
     },
     "metadata": {
      "needs_background": "light"
     },
     "output_type": "display_data"
    }
   ],
   "source": [
    "nbinom_melt = nbinom.melt()\n",
    "grid = sns.FacetGrid(nbinom_melt, col='variable', sharex=True)\n",
    "grid.map(plt.hist, 'value', cumulative=False, bins=20)"
   ]
  },
  {
   "cell_type": "markdown",
   "metadata": {},
   "source": [
    "It can be seen that for any set of experiments, lower probability of success leads to a much higher number of failures before a specified number of successes appears. The average number of successes per experiment is equal to $\\frac{pr}{1-p}$\n",
    "\n",
    "Now we add Poisson distribution to it, so we can compare those two.\n",
    "Its probability mass function is defined as $$\\frac{\\lambda^k e^{-\\lambda}}{k!}$$\n",
    "\n",
    "It is typical for situation where we want to obtain the proability of a given number of events occurring in a fixed interval of time or space if these events occur with a known constant mean rate and independently of the time since the last event. This typically means rare events."
   ]
  },
  {
   "cell_type": "code",
   "execution_count": 69,
   "metadata": {},
   "outputs": [
    {
     "name": "stdout",
     "output_type": "stream",
     "text": [
      "   r=100,p=0.2  r=100,p=0.4  r=100,p=0.6  r=100,p=0.8\n",
      "0          484          147           63           24\n",
      "1          474          170           66           14\n",
      "2          462          119           51           17\n",
      "3          361          116           67           23\n",
      "4          492          143           48           27\n",
      "   mi=400.0  mi=150.0  mi=66.66666666666667  mi=25.0\n",
      "0       420       149                    73       21\n",
      "1       387       152                    81       27\n",
      "2       410       134                    71       28\n",
      "3       413       155                    71       30\n",
      "4       431       140                    80       22\n"
     ]
    }
   ],
   "source": [
    "# Instantiate nbinom and poisson distribution set with the same base parameters for comparison\n",
    "p = [0.2,0.4,0.6,0.8]\n",
    "mi = [stats.nbinom.mean(100, x) for x in p]\n",
    "nbinom = pd.DataFrame({\"r=100,p={}\".format(p[i]):np.random.negative_binomial(100,p[i],size=10000) for i in range(4)})\n",
    "poisson = pd.DataFrame({\"mi={}\".format(mi[i]):np.random.poisson(mi[i], size=10000) for i in range(4)})\n",
    "print(nbinom.head())\n",
    "print(poisson.head())"
   ]
  },
  {
   "cell_type": "code",
   "execution_count": 73,
   "metadata": {},
   "outputs": [
    {
     "data": {
      "text/plain": [
       "<seaborn.axisgrid.FacetGrid at 0x1bac08e6948>"
      ]
     },
     "execution_count": 73,
     "metadata": {},
     "output_type": "execute_result"
    },
    {
     "data": {
      "image/png": "[encoded data removed]",
      "text/plain": [
       "<Figure size 864x216 with 4 Axes>"
      ]
     },
     "metadata": {
      "needs_background": "light"
     },
     "output_type": "display_data"
    },
    {
     "data": {
      "image/png": "[encoded data removed]",
      "text/plain": [
       "<Figure size 864x216 with 4 Axes>"
      ]
     },
     "metadata": {
      "needs_background": "light"
     },
     "output_type": "display_data"
    }
   ],
   "source": [
    "# Melt and prepare for histogram creation\n",
    "nbinom_melt = nbinom.melt()\n",
    "poisson_melt = poisson.melt()\n",
    "\n",
    "grid = sns.FacetGrid(nbinom_melt, col='variable',sharex=True)\n",
    "grid.map(plt.hist, \"value\", cumulative=False, bins=20)\n",
    "grid.set(title='Negative Binomial',xlim=(0, 600), ylim=(0, 1800))\n",
    "\n",
    "grid = sns.FacetGrid(poisson_melt, col='variable',sharex=True)\n",
    "grid.set(title='Poisson')\n",
    "grid.map(plt.hist, \"value\", cumulative=False, bins=20)\n",
    "grid.set(title='Poisson',xlim=(0, 600), ylim=(0, 1800))"
   ]
  },
  {
   "cell_type": "markdown",
   "metadata": {},
   "source": [
    "- Nbinom dists are wider in general, which means they have higher standard deviation than poisson dists with the same mean.\n",
    "- Poisson dist is defined by amount of successes expected with unknown number of trials.\n",
    "- Nbinom dist is defined by probability of amount of failures. With an increase in success rate (in single trial, p), expected amount of failures decreases."
   ]
  },
  {
   "cell_type": "markdown",
   "metadata": {},
   "source": [
    "### 3. Student-t distribution\n",
    "\n",
    "This is a distribution which can be a generalization fo Gaussian distributions with varying scale. I won't write the pmf here as it's too complicated, just google it. In this exercise we'll change degrees of freedom and dispersion parameterizations to see how changing them moves from normal distribution. We will also take a special case of degrees of freedom equal to 1 which represents Cauchy distribution. We'll observe mean and variance changes while increasing number of samples."
   ]
  },
  {
   "cell_type": "code",
   "execution_count": 80,
   "metadata": {},
   "outputs": [
    {
     "data": {
      "text/html": [
       "<div>\n",
       "<style scoped>\n",
       "    .dataframe tbody tr th:only-of-type {\n",
       "        vertical-align: middle;\n",
       "    }\n",
       "\n",
       "    .dataframe tbody tr th {\n",
       "        vertical-align: top;\n",
       "    }\n",
       "\n",
       "    .dataframe thead th {\n",
       "        text-align: right;\n",
       "    }\n",
       "</style>\n",
       "<table border=\"1\" class=\"dataframe\">\n",
       "  <thead>\n",
       "    <tr style=\"text-align: right;\">\n",
       "      <th></th>\n",
       "      <th>T-student_v=1</th>\n",
       "      <th>T-student_v=2</th>\n",
       "      <th>T-student_v=3</th>\n",
       "      <th>T-student_v=5</th>\n",
       "      <th>T-student_v=10</th>\n",
       "      <th>T-student_v=15</th>\n",
       "      <th>T-student_v=25</th>\n",
       "      <th>T-student_v=42</th>\n",
       "    </tr>\n",
       "  </thead>\n",
       "  <tbody>\n",
       "    <tr>\n",
       "      <th>0</th>\n",
       "      <td>-0.668213</td>\n",
       "      <td>2.505014</td>\n",
       "      <td>2.736598</td>\n",
       "      <td>4.370120</td>\n",
       "      <td>-1.048915</td>\n",
       "      <td>1.507162</td>\n",
       "      <td>-1.376040</td>\n",
       "      <td>-1.119051</td>\n",
       "    </tr>\n",
       "    <tr>\n",
       "      <th>1</th>\n",
       "      <td>-2.899333</td>\n",
       "      <td>0.225767</td>\n",
       "      <td>-1.087662</td>\n",
       "      <td>-0.649585</td>\n",
       "      <td>-0.870937</td>\n",
       "      <td>0.420157</td>\n",
       "      <td>1.028629</td>\n",
       "      <td>-0.045464</td>\n",
       "    </tr>\n",
       "    <tr>\n",
       "      <th>2</th>\n",
       "      <td>0.567237</td>\n",
       "      <td>-0.151260</td>\n",
       "      <td>-2.269437</td>\n",
       "      <td>-1.843642</td>\n",
       "      <td>-0.522682</td>\n",
       "      <td>1.592070</td>\n",
       "      <td>0.380490</td>\n",
       "      <td>0.910464</td>\n",
       "    </tr>\n",
       "    <tr>\n",
       "      <th>3</th>\n",
       "      <td>-0.101349</td>\n",
       "      <td>0.322179</td>\n",
       "      <td>0.134459</td>\n",
       "      <td>1.254091</td>\n",
       "      <td>0.504560</td>\n",
       "      <td>-2.004004</td>\n",
       "      <td>0.390866</td>\n",
       "      <td>-0.389656</td>\n",
       "    </tr>\n",
       "    <tr>\n",
       "      <th>4</th>\n",
       "      <td>0.702686</td>\n",
       "      <td>1.218435</td>\n",
       "      <td>-0.730218</td>\n",
       "      <td>0.169385</td>\n",
       "      <td>-0.084469</td>\n",
       "      <td>-0.000390</td>\n",
       "      <td>1.306155</td>\n",
       "      <td>-1.835579</td>\n",
       "    </tr>\n",
       "  </tbody>\n",
       "</table>\n",
       "</div>"
      ],
      "text/plain": [
       "   T-student_v=1  T-student_v=2  T-student_v=3  T-student_v=5  T-student_v=10  \\\n",
       "0      -0.668213       2.505014       2.736598       4.370120       -1.048915   \n",
       "1      -2.899333       0.225767      -1.087662      -0.649585       -0.870937   \n",
       "2       0.567237      -0.151260      -2.269437      -1.843642       -0.522682   \n",
       "3      -0.101349       0.322179       0.134459       1.254091        0.504560   \n",
       "4       0.702686       1.218435      -0.730218       0.169385       -0.084469   \n",
       "\n",
       "   T-student_v=15  T-student_v=25  T-student_v=42  \n",
       "0        1.507162       -1.376040       -1.119051  \n",
       "1        0.420157        1.028629       -0.045464  \n",
       "2        1.592070        0.380490        0.910464  \n",
       "3       -2.004004        0.390866       -0.389656  \n",
       "4       -0.000390        1.306155       -1.835579  "
      ]
     },
     "execution_count": 80,
     "metadata": {},
     "output_type": "execute_result"
    }
   ],
   "source": [
    "n=[1,2,3,5,10,15,25,42]\n",
    "student = pd.DataFrame({'T-student_v={}'.format(param):np.random.standard_t(param, size=10000) for param in n})\n",
    "student.head()"
   ]
  },
  {
   "cell_type": "code",
   "execution_count": 81,
   "metadata": {},
   "outputs": [
    {
     "data": {
      "text/plain": [
       "<seaborn.axisgrid.FacetGrid at 0x1baba4253c8>"
      ]
     },
     "execution_count": 81,
     "metadata": {},
     "output_type": "execute_result"
    },
    {
     "data": {
      "image/png": "[encoded data removed]",
      "text/plain": [
       "<Figure size 864x432 with 8 Axes>"
      ]
     },
     "metadata": {
      "needs_background": "light"
     },
     "output_type": "display_data"
    }
   ],
   "source": [
    "student_melt = student.melt()\n",
    "grid = sns.FacetGrid(student_melt, col=\"variable\", sharey=False, sharex=False, col_wrap=4)\n",
    "grid.map(plt.hist, \"value\", cumulative=False, bins=50)"
   ]
  },
  {
   "cell_type": "code",
   "execution_count": 84,
   "metadata": {},
   "outputs": [],
   "source": [
    "light=\"#FFFCDC\"\n",
    "light_highlight=\"#FEF590\"\n",
    "mid=\"#FDED2A\"\n",
    "mid_highlight=\"#f0dc05\"\n",
    "dark=\"#EECA02\"\n",
    "dark_highlight=\"#BB9700\"\n",
    "green=\"#00FF00\"\n",
    "blue=\"#0000FF\"\n",
    "red=\"#FF0000\"\n",
    "light_grey=\"#DDDDDD\"\n",
    "\n",
    "#Predefining some colors for the conveninece of using them in plots.\n",
    "\n",
    "colors=[light, light_highlight, mid, mid_highlight,\n",
    "        dark, dark_highlight, green, blue, red, light_grey]"
   ]
  },
  {
   "cell_type": "code",
   "execution_count": 90,
   "metadata": {},
   "outputs": [
    {
     "data": {
      "image/png": "[encoded data removed]",
      "text/plain": [
       "<Figure size 432x288 with 1 Axes>"
      ]
     },
     "metadata": {
      "needs_background": "light"
     },
     "output_type": "display_data"
    }
   ],
   "source": [
    "# Cauchy distribution\n",
    "samples = [10, 100, 1000]\n",
    "fig, ax = plt.subplots(1, 1)\n",
    "for i in range(len(samples)):\n",
    "    xc = np.linspace(stats.t.ppf(0.01, n[0]),\n",
    "                    stats.t.ppf(0.99, n[0]),samples[i])\n",
    "    ax.plot(xc, stats.t.pdf(xc, n[0]),color=colors[8-i],linewidth=2)\n",
    "\n",
    "ax.plot(xc, stats.norm.pdf(xc),color=colors[2],linewidth=2)\n",
    "plt.show()"
   ]
  },
  {
   "cell_type": "code",
   "execution_count": 92,
   "metadata": {},
   "outputs": [
    {
     "name": "stderr",
     "output_type": "stream",
     "text": [
      "INFO:pystan:COMPILING THE C++ CODE FOR MODEL anon_model_b32ece66150ba9ec66a763deb964f72f NOW.\n"
     ]
    }
   ],
   "source": [
    "student_model = stan_utility.compile_model('3_student_t_family.stan')"
   ]
  },
  {
   "cell_type": "code",
   "execution_count": 93,
   "metadata": {},
   "outputs": [
    {
     "name": "stderr",
     "output_type": "stream",
     "text": [
      "WARNING:pystan:Rhat above 1.1 or below 0.9 indicates that the chains very likely have not mixed\n",
      "WARNING:pystan:Rhat above 1.1 or below 0.9 indicates that the chains very likely have not mixed\n"
     ]
    },
    {
     "name": "stdout",
     "output_type": "stream",
     "text": [
      "For its: 10\n",
      " Summary: Inference for Stan model: anon_model_b32ece66150ba9ec66a763deb964f72f.\n",
      "1 chains, each with iter=10; warmup=5; thin=1; \n",
      "post-warmup draws per chain=5, total post-warmup draws=5.\n",
      "\n",
      "       mean se_mean     sd   2.5%    25%    50%    75%  97.5%  n_eff   Rhat\n",
      "y      1.31    0.68   1.54  -0.25   0.04   0.77   2.84    3.2      5   0.74\n",
      "lp__  -1.02    0.46   1.16  -2.42   -2.2  -0.46  -0.05  -0.03      6   0.73\n",
      "\n",
      "Samples were drawn using NUTS at Fri Jun 12 21:52:05 2020.\n",
      "For each parameter, n_eff is a crude measure of effective sample size,\n",
      "and Rhat is the potential scale reduction factor on split chains (at \n",
      "convergence, Rhat=1).\n",
      "For its: 100\n",
      " Summary: Inference for Stan model: anon_model_b32ece66150ba9ec66a763deb964f72f.\n",
      "1 chains, each with iter=100; warmup=50; thin=1; \n",
      "post-warmup draws per chain=50, total post-warmup draws=50.\n",
      "\n",
      "       mean se_mean     sd   2.5%    25%    50%    75%  97.5%  n_eff   Rhat\n",
      "y      -0.1    0.36    1.2  -2.09  -0.98  -0.08   0.52   2.42     11   1.01\n",
      "lp__  -0.68    0.25   0.61  -1.93  -1.16  -0.52  -0.14  -0.01      6   1.24\n",
      "\n",
      "Samples were drawn using NUTS at Fri Jun 12 21:52:05 2020.\n",
      "For each parameter, n_eff is a crude measure of effective sample size,\n",
      "and Rhat is the potential scale reduction factor on split chains (at \n",
      "convergence, Rhat=1).\n"
     ]
    },
    {
     "name": "stderr",
     "output_type": "stream",
     "text": [
      "WARNING:pystan:1 of 5000 iterations saturated the maximum tree depth of 10 (0.02 %)\n",
      "WARNING:pystan:Run again with max_treedepth larger than 10 to avoid saturation\n"
     ]
    },
    {
     "name": "stdout",
     "output_type": "stream",
     "text": [
      "For its: 1000\n",
      " Summary: Inference for Stan model: anon_model_b32ece66150ba9ec66a763deb964f72f.\n",
      "1 chains, each with iter=1000; warmup=500; thin=1; \n",
      "post-warmup draws per chain=500, total post-warmup draws=500.\n",
      "\n",
      "       mean se_mean     sd   2.5%    25%    50%    75%  97.5%  n_eff   Rhat\n",
      "y      0.59    0.58   7.54  -13.5  -0.99   0.12   1.39  19.96    168    1.0\n",
      "lp__  -1.64    0.26   1.83  -6.29  -2.69  -0.85   -0.2-3.3e-3     49   1.02\n",
      "\n",
      "Samples were drawn using NUTS at Fri Jun 12 21:52:05 2020.\n",
      "For each parameter, n_eff is a crude measure of effective sample size,\n",
      "and Rhat is the potential scale reduction factor on split chains (at \n",
      "convergence, Rhat=1).\n",
      "For its: 10000\n",
      " Summary: Inference for Stan model: anon_model_b32ece66150ba9ec66a763deb964f72f.\n",
      "1 chains, each with iter=10000; warmup=5000; thin=1; \n",
      "post-warmup draws per chain=5000, total post-warmup draws=5000.\n",
      "\n",
      "       mean se_mean     sd   2.5%    25%    50%    75%  97.5%  n_eff   Rhat\n",
      "y      0.02     0.3   9.18 -11.44  -0.99   0.04   1.05   9.77    939    1.0\n",
      "lp__  -1.33    0.07   1.62  -5.95  -1.89  -0.71  -0.17-1.9e-3    550    1.0\n",
      "\n",
      "Samples were drawn using NUTS at Fri Jun 12 21:52:06 2020.\n",
      "For each parameter, n_eff is a crude measure of effective sample size,\n",
      "and Rhat is the potential scale reduction factor on split chains (at \n",
      "convergence, Rhat=1).\n"
     ]
    },
    {
     "data": {
      "image/png": "[encoded data removed]",
      "text/plain": [
       "<Figure size 432x288 with 1 Axes>"
      ]
     },
     "metadata": {
      "needs_background": "light"
     },
     "output_type": "display_data"
    }
   ],
   "source": [
    "iterations = [10,100,1000,10000]\n",
    "for its in iterations:\n",
    "    model=student_model.sampling(data={'n': 1.0,\n",
    "                           'mu': 0.0,\n",
    "                           'sigma': 1.0},\n",
    "                     iter=its,\n",
    "                     chains=1,\n",
    "                     seed=42)\n",
    "    dist = model.extract()\n",
    "    THist = plt.hist(dist['y'], bins=its)\n",
    "    print('For its: {its}\\n Summary: {stansum}'.format(its=its,\n",
    "                                                         stansum=model.stansummary()))\n",
    "    \n",
    "THist = plt.hist(dist['y'], bins=1000)"
   ]
  },
  {
   "cell_type": "code",
   "execution_count": 95,
   "metadata": {},
   "outputs": [
    {
     "name": "stdout",
     "output_type": "stream",
     "text": [
      "Inference for Stan model: anon_model_b32ece66150ba9ec66a763deb964f72f.\n",
      "1 chains, each with iter=500; warmup=250; thin=1; \n",
      "post-warmup draws per chain=250, total post-warmup draws=250.\n",
      "\n",
      "       mean se_mean     sd   2.5%    25%    50%    75%  97.5%  n_eff   Rhat\n",
      "y      0.07    0.19   1.94  -3.68  -0.62   0.05   0.65    4.4    100   1.01\n",
      "lp__  -0.75     0.1   0.95  -3.26  -0.93  -0.34   -0.1-1.4e-3     88    1.0\n",
      "\n",
      "Samples were drawn using NUTS at Fri Jun 12 21:54:14 2020.\n",
      "For each parameter, n_eff is a crude measure of effective sample size,\n",
      "and Rhat is the potential scale reduction factor on split chains (at \n",
      "convergence, Rhat=1).\n"
     ]
    },
    {
     "data": {
      "image/png": "[encoded data removed]",
      "text/plain": [
       "<Figure size 432x288 with 1 Axes>"
      ]
     },
     "metadata": {
      "needs_background": "light"
     },
     "output_type": "display_data"
    }
   ],
   "source": [
    "model=student_model.sampling(data={'n': 1.0,\n",
    "                       'mu': 0.0,\n",
    "                       'sigma': 1.0},\n",
    "                     iter=500,\n",
    "                     chains=1,\n",
    "                     seed=42)\n",
    "dist = model.extract()\n",
    "THist = plt.hist(dist['y'], bins=100)\n",
    "print(model.stansummary())"
   ]
  },
  {
   "cell_type": "markdown",
   "metadata": {},
   "source": [
    "Increasing sampling number causes the mean to approach zero and variance to grow."
   ]
  },
  {
   "cell_type": "markdown",
   "metadata": {},
   "source": [
    "### 4. Multivariate normal distribution\n"
   ]
  }
 ],
 "metadata": {
  "kernelspec": {
   "display_name": "Python 3",
   "language": "python",
   "name": "python3"
  },
  "language_info": {
   "codemirror_mode": {
    "name": "ipython",
    "version": 3
   },
   "file_extension": ".py",
   "mimetype": "text/x-python",
   "name": "python",
   "nbconvert_exporter": "python",
   "pygments_lexer": "ipython3",
   "version": "3.7.6"
  }
 },
 "nbformat": 4,
 "nbformat_minor": 4
}
