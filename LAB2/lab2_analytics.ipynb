{
 "cells": [
  {
   "cell_type": "code",
   "execution_count": 6,
   "metadata": {},
   "outputs": [],
   "source": [
    "import pandas as pd\n",
    "import scipy.stats as stats\n",
    "import numpy as np\n",
    "import seaborn as sns\n",
    "import matplotlib.pyplot as plt\n",
    "from scipy.special import logit, expit"
   ]
  },
  {
   "cell_type": "markdown",
   "metadata": {},
   "source": [
    "### 1. Normal distribution. \n",
    "Using histograms with and without cumulative option observe how increasing variance and mean changes look of the distribution.\n",
    "Check how number of bins influences the plots. Consider what would make normal distribution weekly informative and what will make it informative."
   ]
  },
  {
   "cell_type": "code",
   "execution_count": 7,
   "metadata": {
    "scrolled": true
   },
   "outputs": [
    {
     "data": {
      "text/html": [
       "<div>\n",
       "<style scoped>\n",
       "    .dataframe tbody tr th:only-of-type {\n",
       "        vertical-align: middle;\n",
       "    }\n",
       "\n",
       "    .dataframe tbody tr th {\n",
       "        vertical-align: top;\n",
       "    }\n",
       "\n",
       "    .dataframe thead th {\n",
       "        text-align: right;\n",
       "    }\n",
       "</style>\n",
       "<table border=\"1\" class=\"dataframe\">\n",
       "  <thead>\n",
       "    <tr style=\"text-align: right;\">\n",
       "      <th></th>\n",
       "      <th>mu=0,sigma=1</th>\n",
       "      <th>mu=1,sigma=3.5</th>\n",
       "      <th>mu=2,sigma=0.1</th>\n",
       "      <th>mu=3,sigma=15</th>\n",
       "    </tr>\n",
       "  </thead>\n",
       "  <tbody>\n",
       "    <tr>\n",
       "      <th>0</th>\n",
       "      <td>0.398318</td>\n",
       "      <td>1.369536</td>\n",
       "      <td>2.034445</td>\n",
       "      <td>-37.291326</td>\n",
       "    </tr>\n",
       "    <tr>\n",
       "      <th>1</th>\n",
       "      <td>-0.010724</td>\n",
       "      <td>4.834283</td>\n",
       "      <td>2.051755</td>\n",
       "      <td>-18.807626</td>\n",
       "    </tr>\n",
       "    <tr>\n",
       "      <th>2</th>\n",
       "      <td>1.233281</td>\n",
       "      <td>-2.028547</td>\n",
       "      <td>2.039724</td>\n",
       "      <td>4.201955</td>\n",
       "    </tr>\n",
       "    <tr>\n",
       "      <th>3</th>\n",
       "      <td>1.388476</td>\n",
       "      <td>2.460897</td>\n",
       "      <td>2.119464</td>\n",
       "      <td>18.154966</td>\n",
       "    </tr>\n",
       "    <tr>\n",
       "      <th>4</th>\n",
       "      <td>1.371022</td>\n",
       "      <td>-5.883507</td>\n",
       "      <td>2.158504</td>\n",
       "      <td>9.877608</td>\n",
       "    </tr>\n",
       "  </tbody>\n",
       "</table>\n",
       "</div>"
      ],
      "text/plain": [
       "   mu=0,sigma=1  mu=1,sigma=3.5  mu=2,sigma=0.1  mu=3,sigma=15\n",
       "0      0.398318        1.369536        2.034445     -37.291326\n",
       "1     -0.010724        4.834283        2.051755     -18.807626\n",
       "2      1.233281       -2.028547        2.039724       4.201955\n",
       "3      1.388476        2.460897        2.119464      18.154966\n",
       "4      1.371022       -5.883507        2.158504       9.877608"
      ]
     },
     "execution_count": 7,
     "metadata": {},
     "output_type": "execute_result"
    }
   ],
   "source": [
    "mu, sigma = [0,1,2,3], [1,3.5,0.1,15]\n",
    "df = pd.DataFrame({'mu={},sigma={}'.format(str(mu[i]),str(sigma[i])):np.random.normal(mu[i],sigma[i],1000) for i in range(4)})\n",
    "df.head()"
   ]
  },
  {
   "cell_type": "code",
   "execution_count": 8,
   "metadata": {},
   "outputs": [
    {
     "data": {
      "text/html": [
       "<div>\n",
       "<style scoped>\n",
       "    .dataframe tbody tr th:only-of-type {\n",
       "        vertical-align: middle;\n",
       "    }\n",
       "\n",
       "    .dataframe tbody tr th {\n",
       "        vertical-align: top;\n",
       "    }\n",
       "\n",
       "    .dataframe thead th {\n",
       "        text-align: right;\n",
       "    }\n",
       "</style>\n",
       "<table border=\"1\" class=\"dataframe\">\n",
       "  <thead>\n",
       "    <tr style=\"text-align: right;\">\n",
       "      <th></th>\n",
       "      <th>variable</th>\n",
       "      <th>value</th>\n",
       "    </tr>\n",
       "  </thead>\n",
       "  <tbody>\n",
       "    <tr>\n",
       "      <th>0</th>\n",
       "      <td>mu=0,sigma=1</td>\n",
       "      <td>0.398318</td>\n",
       "    </tr>\n",
       "    <tr>\n",
       "      <th>1</th>\n",
       "      <td>mu=0,sigma=1</td>\n",
       "      <td>-0.010724</td>\n",
       "    </tr>\n",
       "    <tr>\n",
       "      <th>2</th>\n",
       "      <td>mu=0,sigma=1</td>\n",
       "      <td>1.233281</td>\n",
       "    </tr>\n",
       "    <tr>\n",
       "      <th>3</th>\n",
       "      <td>mu=0,sigma=1</td>\n",
       "      <td>1.388476</td>\n",
       "    </tr>\n",
       "    <tr>\n",
       "      <th>4</th>\n",
       "      <td>mu=0,sigma=1</td>\n",
       "      <td>1.371022</td>\n",
       "    </tr>\n",
       "    <tr>\n",
       "      <th>...</th>\n",
       "      <td>...</td>\n",
       "      <td>...</td>\n",
       "    </tr>\n",
       "    <tr>\n",
       "      <th>3995</th>\n",
       "      <td>mu=3,sigma=15</td>\n",
       "      <td>4.194868</td>\n",
       "    </tr>\n",
       "    <tr>\n",
       "      <th>3996</th>\n",
       "      <td>mu=3,sigma=15</td>\n",
       "      <td>-18.903264</td>\n",
       "    </tr>\n",
       "    <tr>\n",
       "      <th>3997</th>\n",
       "      <td>mu=3,sigma=15</td>\n",
       "      <td>-7.060890</td>\n",
       "    </tr>\n",
       "    <tr>\n",
       "      <th>3998</th>\n",
       "      <td>mu=3,sigma=15</td>\n",
       "      <td>10.756692</td>\n",
       "    </tr>\n",
       "    <tr>\n",
       "      <th>3999</th>\n",
       "      <td>mu=3,sigma=15</td>\n",
       "      <td>2.296884</td>\n",
       "    </tr>\n",
       "  </tbody>\n",
       "</table>\n",
       "<p>4000 rows × 2 columns</p>\n",
       "</div>"
      ],
      "text/plain": [
       "           variable      value\n",
       "0      mu=0,sigma=1   0.398318\n",
       "1      mu=0,sigma=1  -0.010724\n",
       "2      mu=0,sigma=1   1.233281\n",
       "3      mu=0,sigma=1   1.388476\n",
       "4      mu=0,sigma=1   1.371022\n",
       "...             ...        ...\n",
       "3995  mu=3,sigma=15   4.194868\n",
       "3996  mu=3,sigma=15 -18.903264\n",
       "3997  mu=3,sigma=15  -7.060890\n",
       "3998  mu=3,sigma=15  10.756692\n",
       "3999  mu=3,sigma=15   2.296884\n",
       "\n",
       "[4000 rows x 2 columns]"
      ]
     },
     "execution_count": 8,
     "metadata": {},
     "output_type": "execute_result"
    }
   ],
   "source": [
    "df_melted = df.melt()\n",
    "df_melted"
   ]
  },
  {
   "cell_type": "code",
   "execution_count": 9,
   "metadata": {},
   "outputs": [
    {
     "data": {
      "text/plain": [
       "<seaborn.axisgrid.FacetGrid at 0x1cfa7070348>"
      ]
     },
     "execution_count": 9,
     "metadata": {},
     "output_type": "execute_result"
    },
    {
     "data": {
      "image/png": "[encoded data removed]",
      "text/plain": [
       "<Figure size 432x432 with 4 Axes>"
      ]
     },
     "metadata": {
      "needs_background": "light"
     },
     "output_type": "display_data"
    }
   ],
   "source": [
    "grid = sns.FacetGrid(df_melted, col='variable', sharex=False, col_wrap=2)\n",
    "grid.map(plt.hist, \"value\", cumulative=0, bins=100)"
   ]
  },
  {
   "cell_type": "markdown",
   "metadata": {},
   "source": [
    "Normal distribution could become weakly informative if we increase the deviation of the values - it becomes too vague to represent a value closely. Weak informativity would be also conjointly achieved by decreasing the number of the histogram's bins - quantizing the distribution too loosely."
   ]
  },
  {
   "cell_type": "markdown",
   "metadata": {},
   "source": [
    "### 2. Transform samples from normal distribution with inverse logit. \n",
    "Consider how mean and standard deviation influence the shape of histogram and cdf. Is previously non-informative normal is still non-informative after transformation?"
   ]
  },
  {
   "cell_type": "code",
   "execution_count": 10,
   "metadata": {},
   "outputs": [
    {
     "data": {
      "text/html": [
       "<div>\n",
       "<style scoped>\n",
       "    .dataframe tbody tr th:only-of-type {\n",
       "        vertical-align: middle;\n",
       "    }\n",
       "\n",
       "    .dataframe tbody tr th {\n",
       "        vertical-align: top;\n",
       "    }\n",
       "\n",
       "    .dataframe thead th {\n",
       "        text-align: right;\n",
       "    }\n",
       "</style>\n",
       "<table border=\"1\" class=\"dataframe\">\n",
       "  <thead>\n",
       "    <tr style=\"text-align: right;\">\n",
       "      <th></th>\n",
       "      <th>variable</th>\n",
       "      <th>value</th>\n",
       "    </tr>\n",
       "  </thead>\n",
       "  <tbody>\n",
       "    <tr>\n",
       "      <th>0</th>\n",
       "      <td>mu=0,sigma=1</td>\n",
       "      <td>5.982835e-01</td>\n",
       "    </tr>\n",
       "    <tr>\n",
       "      <th>1</th>\n",
       "      <td>mu=0,sigma=1</td>\n",
       "      <td>4.973189e-01</td>\n",
       "    </tr>\n",
       "    <tr>\n",
       "      <th>2</th>\n",
       "      <td>mu=0,sigma=1</td>\n",
       "      <td>7.743923e-01</td>\n",
       "    </tr>\n",
       "    <tr>\n",
       "      <th>3</th>\n",
       "      <td>mu=0,sigma=1</td>\n",
       "      <td>8.003489e-01</td>\n",
       "    </tr>\n",
       "    <tr>\n",
       "      <th>4</th>\n",
       "      <td>mu=0,sigma=1</td>\n",
       "      <td>7.975452e-01</td>\n",
       "    </tr>\n",
       "    <tr>\n",
       "      <th>...</th>\n",
       "      <td>...</td>\n",
       "      <td>...</td>\n",
       "    </tr>\n",
       "    <tr>\n",
       "      <th>3995</th>\n",
       "      <td>mu=3,sigma=15</td>\n",
       "      <td>9.851511e-01</td>\n",
       "    </tr>\n",
       "    <tr>\n",
       "      <th>3996</th>\n",
       "      <td>mu=3,sigma=15</td>\n",
       "      <td>6.171869e-09</td>\n",
       "    </tr>\n",
       "    <tr>\n",
       "      <th>3997</th>\n",
       "      <td>mu=3,sigma=15</td>\n",
       "      <td>8.572789e-04</td>\n",
       "    </tr>\n",
       "    <tr>\n",
       "      <th>3998</th>\n",
       "      <td>mu=3,sigma=15</td>\n",
       "      <td>9.999787e-01</td>\n",
       "    </tr>\n",
       "    <tr>\n",
       "      <th>3999</th>\n",
       "      <td>mu=3,sigma=15</td>\n",
       "      <td>9.086186e-01</td>\n",
       "    </tr>\n",
       "  </tbody>\n",
       "</table>\n",
       "<p>4000 rows × 2 columns</p>\n",
       "</div>"
      ],
      "text/plain": [
       "           variable         value\n",
       "0      mu=0,sigma=1  5.982835e-01\n",
       "1      mu=0,sigma=1  4.973189e-01\n",
       "2      mu=0,sigma=1  7.743923e-01\n",
       "3      mu=0,sigma=1  8.003489e-01\n",
       "4      mu=0,sigma=1  7.975452e-01\n",
       "...             ...           ...\n",
       "3995  mu=3,sigma=15  9.851511e-01\n",
       "3996  mu=3,sigma=15  6.171869e-09\n",
       "3997  mu=3,sigma=15  8.572789e-04\n",
       "3998  mu=3,sigma=15  9.999787e-01\n",
       "3999  mu=3,sigma=15  9.086186e-01\n",
       "\n",
       "[4000 rows x 2 columns]"
      ]
     },
     "execution_count": 10,
     "metadata": {},
     "output_type": "execute_result"
    }
   ],
   "source": [
    "dfx = expit(df)\n",
    "dfxm = dfx.melt()\n",
    "dfxm"
   ]
  },
  {
   "cell_type": "code",
   "execution_count": 11,
   "metadata": {},
   "outputs": [
    {
     "data": {
      "image/png": "[encoded data removed]",
      "text/plain": [
       "<Figure size 864x216 with 4 Axes>"
      ]
     },
     "metadata": {
      "needs_background": "light"
     },
     "output_type": "display_data"
    },
    {
     "data": {
      "image/png": "[encoded data removed]",
      "text/plain": [
       "<Figure size 864x216 with 4 Axes>"
      ]
     },
     "metadata": {
      "needs_background": "light"
     },
     "output_type": "display_data"
    }
   ],
   "source": [
    "gxp = sns.FacetGrid(dfxm, col='variable', sharex=0, col_wrap=4)\n",
    "gxp.map(plt.hist, 'value', cumulative=0, bins=100)\n",
    "gxpcum = sns.FacetGrid(dfxm, col='variable', sharex=0, col_wrap=4)\n",
    "gxpcum.map(plt.hist,'value',cumulative=1, bins=100)\n",
    "plt.show()"
   ]
  },
  {
   "cell_type": "markdown",
   "metadata": {},
   "source": [
    "Yes, the non-informative one is still non-informative."
   ]
  },
  {
   "cell_type": "markdown",
   "metadata": {},
   "source": [
    "### 3. Poisson distribution.\n",
    "This distribution returns integers (give histogram location of bins instead of their numbers), depending on intensity. This is a good distribution for modelling countable effects. Observe how mean and variance influence the shape."
   ]
  },
  {
   "cell_type": "code",
   "execution_count": 12,
   "metadata": {},
   "outputs": [
    {
     "data": {
      "text/html": [
       "<div>\n",
       "<style scoped>\n",
       "    .dataframe tbody tr th:only-of-type {\n",
       "        vertical-align: middle;\n",
       "    }\n",
       "\n",
       "    .dataframe tbody tr th {\n",
       "        vertical-align: top;\n",
       "    }\n",
       "\n",
       "    .dataframe thead th {\n",
       "        text-align: right;\n",
       "    }\n",
       "</style>\n",
       "<table border=\"1\" class=\"dataframe\">\n",
       "  <thead>\n",
       "    <tr style=\"text-align: right;\">\n",
       "      <th></th>\n",
       "      <th>variable</th>\n",
       "      <th>value</th>\n",
       "    </tr>\n",
       "  </thead>\n",
       "  <tbody>\n",
       "    <tr>\n",
       "      <th>0</th>\n",
       "      <td>PoissonInterval=1</td>\n",
       "      <td>0</td>\n",
       "    </tr>\n",
       "    <tr>\n",
       "      <th>1</th>\n",
       "      <td>PoissonInterval=1</td>\n",
       "      <td>1</td>\n",
       "    </tr>\n",
       "    <tr>\n",
       "      <th>2</th>\n",
       "      <td>PoissonInterval=1</td>\n",
       "      <td>1</td>\n",
       "    </tr>\n",
       "    <tr>\n",
       "      <th>3</th>\n",
       "      <td>PoissonInterval=1</td>\n",
       "      <td>0</td>\n",
       "    </tr>\n",
       "    <tr>\n",
       "      <th>4</th>\n",
       "      <td>PoissonInterval=1</td>\n",
       "      <td>1</td>\n",
       "    </tr>\n",
       "    <tr>\n",
       "      <th>...</th>\n",
       "      <td>...</td>\n",
       "      <td>...</td>\n",
       "    </tr>\n",
       "    <tr>\n",
       "      <th>3995</th>\n",
       "      <td>PoissonInterval=15</td>\n",
       "      <td>18</td>\n",
       "    </tr>\n",
       "    <tr>\n",
       "      <th>3996</th>\n",
       "      <td>PoissonInterval=15</td>\n",
       "      <td>16</td>\n",
       "    </tr>\n",
       "    <tr>\n",
       "      <th>3997</th>\n",
       "      <td>PoissonInterval=15</td>\n",
       "      <td>16</td>\n",
       "    </tr>\n",
       "    <tr>\n",
       "      <th>3998</th>\n",
       "      <td>PoissonInterval=15</td>\n",
       "      <td>10</td>\n",
       "    </tr>\n",
       "    <tr>\n",
       "      <th>3999</th>\n",
       "      <td>PoissonInterval=15</td>\n",
       "      <td>15</td>\n",
       "    </tr>\n",
       "  </tbody>\n",
       "</table>\n",
       "<p>4000 rows × 2 columns</p>\n",
       "</div>"
      ],
      "text/plain": [
       "                variable  value\n",
       "0      PoissonInterval=1      0\n",
       "1      PoissonInterval=1      1\n",
       "2      PoissonInterval=1      1\n",
       "3      PoissonInterval=1      0\n",
       "4      PoissonInterval=1      1\n",
       "...                  ...    ...\n",
       "3995  PoissonInterval=15     18\n",
       "3996  PoissonInterval=15     16\n",
       "3997  PoissonInterval=15     16\n",
       "3998  PoissonInterval=15     10\n",
       "3999  PoissonInterval=15     15\n",
       "\n",
       "[4000 rows x 2 columns]"
      ]
     },
     "execution_count": 12,
     "metadata": {},
     "output_type": "execute_result"
    }
   ],
   "source": [
    "Dictp ={\"PoissonInterval=1\":np.random.poisson(1,1000),\n",
    "    \"PoissonInterval=3\":np.random.poisson(3,1000),\n",
    "    \"PoissonInterval=10\":np.random.poisson(10,1000),\n",
    "    \"PoissonInterval=15\":np.random.poisson(15,1000)}\n",
    "dfp = pd.DataFrame(Dictp)\n",
    "dfpm = dfp.melt()\n",
    "dfpm"
   ]
  },
  {
   "cell_type": "code",
   "execution_count": 13,
   "metadata": {},
   "outputs": [
    {
     "data": {
      "image/png": "[encoded data removed]",
      "text/plain": [
       "<Figure size 864x216 with 4 Axes>"
      ]
     },
     "metadata": {
      "needs_background": "light"
     },
     "output_type": "display_data"
    },
    {
     "data": {
      "image/png": "[encoded data removed]",
      "text/plain": [
       "<Figure size 864x216 with 4 Axes>"
      ]
     },
     "metadata": {
      "needs_background": "light"
     },
     "output_type": "display_data"
    }
   ],
   "source": [
    "gp=sns.FacetGrid(dfpm, col=\"variable\", sharex=False, col_wrap=4)\n",
    "gp.map(plt.hist, \"value\", cumulative=False, bins=100)\n",
    "gpcum=sns.FacetGrid(dfpm, col=\"variable\", sharex=False, col_wrap=4)\n",
    "gpcum.map(plt.hist, \"value\", cumulative=True, bins=100)\n",
    "plt.show()"
   ]
  },
  {
   "cell_type": "markdown",
   "metadata": {},
   "source": [
    "### 4. Beta distribution.\n",
    "This is a distribution defined on [0,1] interval. It is useful as a prior for probability parameters (like binomial distribution). Traditionally it is defined with $\\alpha$ and $\\beta$ parameters. There are however different reparametrizations possible. Verify how beta distributions behave for their natural parametrization, location dispersion parametrization and mean-population size parametrization (see lecture notes)."
   ]
  },
  {
   "cell_type": "code",
   "execution_count": 14,
   "metadata": {},
   "outputs": [
    {
     "data": {
      "text/html": [
       "<div>\n",
       "<style scoped>\n",
       "    .dataframe tbody tr th:only-of-type {\n",
       "        vertical-align: middle;\n",
       "    }\n",
       "\n",
       "    .dataframe tbody tr th {\n",
       "        vertical-align: top;\n",
       "    }\n",
       "\n",
       "    .dataframe thead th {\n",
       "        text-align: right;\n",
       "    }\n",
       "</style>\n",
       "<table border=\"1\" class=\"dataframe\">\n",
       "  <thead>\n",
       "    <tr style=\"text-align: right;\">\n",
       "      <th></th>\n",
       "      <th>variable</th>\n",
       "      <th>value</th>\n",
       "    </tr>\n",
       "  </thead>\n",
       "  <tbody>\n",
       "    <tr>\n",
       "      <th>0</th>\n",
       "      <td>alpha=1,beta=1</td>\n",
       "      <td>0.217754</td>\n",
       "    </tr>\n",
       "    <tr>\n",
       "      <th>1</th>\n",
       "      <td>alpha=1,beta=1</td>\n",
       "      <td>0.320972</td>\n",
       "    </tr>\n",
       "    <tr>\n",
       "      <th>2</th>\n",
       "      <td>alpha=1,beta=1</td>\n",
       "      <td>0.140901</td>\n",
       "    </tr>\n",
       "    <tr>\n",
       "      <th>3</th>\n",
       "      <td>alpha=1,beta=1</td>\n",
       "      <td>0.399631</td>\n",
       "    </tr>\n",
       "    <tr>\n",
       "      <th>4</th>\n",
       "      <td>alpha=1,beta=1</td>\n",
       "      <td>0.168111</td>\n",
       "    </tr>\n",
       "    <tr>\n",
       "      <th>...</th>\n",
       "      <td>...</td>\n",
       "      <td>...</td>\n",
       "    </tr>\n",
       "    <tr>\n",
       "      <th>3995</th>\n",
       "      <td>alpha=5,beta=5</td>\n",
       "      <td>0.480763</td>\n",
       "    </tr>\n",
       "    <tr>\n",
       "      <th>3996</th>\n",
       "      <td>alpha=5,beta=5</td>\n",
       "      <td>0.633667</td>\n",
       "    </tr>\n",
       "    <tr>\n",
       "      <th>3997</th>\n",
       "      <td>alpha=5,beta=5</td>\n",
       "      <td>0.396005</td>\n",
       "    </tr>\n",
       "    <tr>\n",
       "      <th>3998</th>\n",
       "      <td>alpha=5,beta=5</td>\n",
       "      <td>0.696813</td>\n",
       "    </tr>\n",
       "    <tr>\n",
       "      <th>3999</th>\n",
       "      <td>alpha=5,beta=5</td>\n",
       "      <td>0.604696</td>\n",
       "    </tr>\n",
       "  </tbody>\n",
       "</table>\n",
       "<p>4000 rows × 2 columns</p>\n",
       "</div>"
      ],
      "text/plain": [
       "            variable     value\n",
       "0     alpha=1,beta=1  0.217754\n",
       "1     alpha=1,beta=1  0.320972\n",
       "2     alpha=1,beta=1  0.140901\n",
       "3     alpha=1,beta=1  0.399631\n",
       "4     alpha=1,beta=1  0.168111\n",
       "...              ...       ...\n",
       "3995  alpha=5,beta=5  0.480763\n",
       "3996  alpha=5,beta=5  0.633667\n",
       "3997  alpha=5,beta=5  0.396005\n",
       "3998  alpha=5,beta=5  0.696813\n",
       "3999  alpha=5,beta=5  0.604696\n",
       "\n",
       "[4000 rows x 2 columns]"
      ]
     },
     "execution_count": 14,
     "metadata": {},
     "output_type": "execute_result"
    }
   ],
   "source": [
    "Dictb={ \"alpha=1,beta=1\":np.random.beta(1,1,1000),\n",
    "    \"alpha=5,beta=1\":np.random.beta(5,1,1000),\n",
    "    \"alpha=1,beta=5\":np.random.beta(1,5,1000),\n",
    "    \"alpha=5,beta=5\":np.random.beta(5,5,1000)}\n",
    "dfb = pd.DataFrame(Dictb)\n",
    "dfbm = dfb.melt()\n",
    "dfbm"
   ]
  },
  {
   "cell_type": "code",
   "execution_count": 15,
   "metadata": {},
   "outputs": [
    {
     "data": {
      "image/png": "[encoded data removed]",
      "text/plain": [
       "<Figure size 864x216 with 4 Axes>"
      ]
     },
     "metadata": {
      "needs_background": "light"
     },
     "output_type": "display_data"
    },
    {
     "data": {
      "image/png": "[encoded data removed]",
      "text/plain": [
       "<Figure size 864x216 with 4 Axes>"
      ]
     },
     "metadata": {
      "needs_background": "light"
     },
     "output_type": "display_data"
    }
   ],
   "source": [
    "gb=sns.FacetGrid(dfbm, col=\"variable\", sharex=False, col_wrap=4)\n",
    "gb.map(plt.hist, \"value\", cumulative=False, bins=100)\n",
    "gbcum=sns.FacetGrid(dfbm, col=\"variable\", sharex=False, col_wrap=4)\n",
    "gbcum.map(plt.hist, \"value\", cumulative=True, bins=100)\n",
    "plt.show()"
   ]
  },
  {
   "cell_type": "markdown",
   "metadata": {},
   "source": [
    "### 5. Log-normal distribution.\n",
    "This is a great distributions for positive variables, especially if scale can differ (for example salaries). Assumtion is that the logarithm of variable of interest is normaly distributed. Observe how mean and variance of normal distribution are propagating through transformation."
   ]
  },
  {
   "cell_type": "code",
   "execution_count": 16,
   "metadata": {},
   "outputs": [
    {
     "data": {
      "text/html": [
       "<div>\n",
       "<style scoped>\n",
       "    .dataframe tbody tr th:only-of-type {\n",
       "        vertical-align: middle;\n",
       "    }\n",
       "\n",
       "    .dataframe tbody tr th {\n",
       "        vertical-align: top;\n",
       "    }\n",
       "\n",
       "    .dataframe thead th {\n",
       "        text-align: right;\n",
       "    }\n",
       "</style>\n",
       "<table border=\"1\" class=\"dataframe\">\n",
       "  <thead>\n",
       "    <tr style=\"text-align: right;\">\n",
       "      <th></th>\n",
       "      <th>variable</th>\n",
       "      <th>value</th>\n",
       "    </tr>\n",
       "  </thead>\n",
       "  <tbody>\n",
       "    <tr>\n",
       "      <th>0</th>\n",
       "      <td>M=0_S=1</td>\n",
       "      <td>0.181100</td>\n",
       "    </tr>\n",
       "    <tr>\n",
       "      <th>1</th>\n",
       "      <td>M=0_S=1</td>\n",
       "      <td>6.797723</td>\n",
       "    </tr>\n",
       "    <tr>\n",
       "      <th>2</th>\n",
       "      <td>M=0_S=1</td>\n",
       "      <td>0.336915</td>\n",
       "    </tr>\n",
       "    <tr>\n",
       "      <th>3</th>\n",
       "      <td>M=0_S=1</td>\n",
       "      <td>1.948638</td>\n",
       "    </tr>\n",
       "    <tr>\n",
       "      <th>4</th>\n",
       "      <td>M=0_S=1</td>\n",
       "      <td>0.825588</td>\n",
       "    </tr>\n",
       "    <tr>\n",
       "      <th>...</th>\n",
       "      <td>...</td>\n",
       "      <td>...</td>\n",
       "    </tr>\n",
       "    <tr>\n",
       "      <th>3995</th>\n",
       "      <td>M=10_S=1</td>\n",
       "      <td>356314.920534</td>\n",
       "    </tr>\n",
       "    <tr>\n",
       "      <th>3996</th>\n",
       "      <td>M=10_S=1</td>\n",
       "      <td>4348.528398</td>\n",
       "    </tr>\n",
       "    <tr>\n",
       "      <th>3997</th>\n",
       "      <td>M=10_S=1</td>\n",
       "      <td>13953.172632</td>\n",
       "    </tr>\n",
       "    <tr>\n",
       "      <th>3998</th>\n",
       "      <td>M=10_S=1</td>\n",
       "      <td>6501.287125</td>\n",
       "    </tr>\n",
       "    <tr>\n",
       "      <th>3999</th>\n",
       "      <td>M=10_S=1</td>\n",
       "      <td>14528.046850</td>\n",
       "    </tr>\n",
       "  </tbody>\n",
       "</table>\n",
       "<p>4000 rows × 2 columns</p>\n",
       "</div>"
      ],
      "text/plain": [
       "      variable          value\n",
       "0      M=0_S=1       0.181100\n",
       "1      M=0_S=1       6.797723\n",
       "2      M=0_S=1       0.336915\n",
       "3      M=0_S=1       1.948638\n",
       "4      M=0_S=1       0.825588\n",
       "...        ...            ...\n",
       "3995  M=10_S=1  356314.920534\n",
       "3996  M=10_S=1    4348.528398\n",
       "3997  M=10_S=1   13953.172632\n",
       "3998  M=10_S=1    6501.287125\n",
       "3999  M=10_S=1   14528.046850\n",
       "\n",
       "[4000 rows x 2 columns]"
      ]
     },
     "execution_count": 16,
     "metadata": {},
     "output_type": "execute_result"
    }
   ],
   "source": [
    "Dictl = {\"M=0_S=1\":np.random.lognormal(size=1000),\n",
    "    \"M=2_S=0.2\":np.random.lognormal(2,0.2,1000),\n",
    "    \"M=1_S=0.5\":np.random.lognormal(0,0.5,1000),\n",
    "    \"M=10_S=1\":np.random.lognormal(10,1,1000)}\n",
    "dfl = pd.DataFrame(Dictl)\n",
    "dflm = dfl.melt()\n",
    "dflm"
   ]
  },
  {
   "cell_type": "code",
   "execution_count": 17,
   "metadata": {},
   "outputs": [
    {
     "data": {
      "image/png": "[encoded data removed]",
      "text/plain": [
       "<Figure size 864x216 with 4 Axes>"
      ]
     },
     "metadata": {
      "needs_background": "light"
     },
     "output_type": "display_data"
    },
    {
     "data": {
      "image/png": "[encoded data removed]",
      "text/plain": [
       "<Figure size 864x216 with 4 Axes>"
      ]
     },
     "metadata": {
      "needs_background": "light"
     },
     "output_type": "display_data"
    }
   ],
   "source": [
    "gl=sns.FacetGrid(dflm, col=\"variable\", sharex=False, col_wrap=4)\n",
    "gl.map(plt.hist, \"value\", cumulative=False, bins=100)\n",
    "glcum=sns.FacetGrid(dflm, col=\"variable\", sharex=False, col_wrap=4)\n",
    "glcum.map(plt.hist, \"value\", cumulative=True, bins=100)\n",
    "plt.show()"
   ]
  }
 ],
 "metadata": {
  "kernelspec": {
   "display_name": "Python 3",
   "language": "python",
   "name": "python3"
  },
  "language_info": {
   "codemirror_mode": {
    "name": "ipython",
    "version": 3
   },
   "file_extension": ".py",
   "mimetype": "text/x-python",
   "name": "python",
   "nbconvert_exporter": "python",
   "pygments_lexer": "ipython3",
   "version": "3.7.6"
  }
 },
 "nbformat": 4,
 "nbformat_minor": 2
}
